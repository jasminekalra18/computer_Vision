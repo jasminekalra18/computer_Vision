{
 "cells": [
  {
   "cell_type": "code",
   "execution_count": 16,
   "metadata": {},
   "outputs": [],
   "source": [
    "import cv2\n",
    "import numpy as np\n",
    "filter  = cv2.imread(r'C:\\Users\\HP\\Desktop\\manu.jpg')\n",
    "\n",
    "filter = cv2.resize(filter, (300,300))\n",
    "# It converts the BGR color space of image to HSV color space \n",
    "hsv = cv2.cvtColor(filter, cv2.COLOR_BGR2HSV) \n",
    "    #cv2.inRange(im, (0, 0, 30), (80, 80, 255))\n",
    "# Threshold of blue in HSV space \n",
    "lower_red = np.array([0, 225, 15])         # blue - lower = 35\n",
    "upper_red = np.array([10, 350, 255])      #  blue - upper = 255\n",
    " # preparing the mask to overlay \n",
    "mask = cv2.inRange(hsv, lower_red, upper_red) \n",
    " \n",
    "# The black region in the mask has the value of 0, \n",
    "# so when multiplied with original image removes all non-blue regions \n",
    "result = cv2.bitwise_and(filter, filter, mask = mask) \n",
    "cv2.imshow('',result)\n",
    "cv2.waitKey(0) \n",
    "cv2.imshow('',mask)\n",
    "cv2.waitKey(0) \n",
    "cv2.destroyAllWindows()\n",
    "cv2.imshow(\"\",filter) \n",
    "cv2.waitKey(0)\n",
    "cv2.destroyAllWindows()"
   ]
  },
  {
   "cell_type": "code",
   "execution_count": null,
   "metadata": {},
   "outputs": [],
   "source": []
  },
  {
   "cell_type": "code",
   "execution_count": null,
   "metadata": {},
   "outputs": [],
   "source": []
  }
 ],
 "metadata": {
  "kernelspec": {
   "display_name": "Python 3.8.1 32-bit",
   "language": "python",
   "name": "python38132bit83c87692f5044d1aa1dc66757104508b"
  },
  "language_info": {
   "codemirror_mode": {
    "name": "ipython",
    "version": 3
   },
   "file_extension": ".py",
   "mimetype": "text/x-python",
   "name": "python",
   "nbconvert_exporter": "python",
   "pygments_lexer": "ipython3",
   "version": "3.8.1"
  }
 },
 "nbformat": 4,
 "nbformat_minor": 4
}
