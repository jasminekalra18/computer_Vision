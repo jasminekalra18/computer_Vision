{
 "cells": [
  {
   "cell_type": "code",
   "execution_count": 1,
   "metadata": {},
   "outputs": [],
   "source": [
    "import cv2\n",
    "\n",
    "cap = cv2.VideoCapture(0)\n",
    "\n",
    "while True:\n",
    "\tret, frame = cap.read()                    \n",
    "\tgray = cv2.cvtColor(frame, cv2.COLOR_BGR2GRAY)\n",
    "\tblur = cv2.GaussianBlur(gray , (5,5), 0)     \n",
    "\tedge = cv2.Canny(blur, 90, 110)            \n",
    "\tret, thresh = cv2.threshold(edge, 170, 255, cv2.THRESH_BINARY_INV)  \n",
    "\tcv2.imshow(\"\",thresh)\n",
    "\n",
    "\tif cv2.waitKey(33) == 27:\n",
    "\t\tbreak;\n",
    "cap.release()\n",
    "cv2.destroyAllWindows()"
   ]
  },
  {
   "cell_type": "code",
   "execution_count": null,
   "metadata": {},
   "outputs": [],
   "source": []
  }
 ],
 "metadata": {
  "kernelspec": {
   "display_name": "Python 3.8.1 32-bit",
   "language": "python",
   "name": "python38132bit83c87692f5044d1aa1dc66757104508b"
  },
  "language_info": {
   "codemirror_mode": {
    "name": "ipython",
    "version": 3
   },
   "file_extension": ".py",
   "mimetype": "text/x-python",
   "name": "python",
   "nbconvert_exporter": "python",
   "pygments_lexer": "ipython3",
   "version": "3.8.1"
  }
 },
 "nbformat": 4,
 "nbformat_minor": 4
}
