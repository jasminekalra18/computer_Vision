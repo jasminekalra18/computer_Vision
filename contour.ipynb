{
 "cells": [
  {
   "cell_type": "code",
   "execution_count": 40,
   "metadata": {},
   "outputs": [],
   "source": [
    "import cv2\n",
    "img = cv2.imread(r'c:\\Users\\HP\\Desktop\\hand1.jpg')\n",
    "gray = cv2.cvtColor(img, cv2.COLOR_BGR2GRAY)\n",
    "cv2.imshow(\"hand\",img)\n",
    "# Finding Edges\n",
    "edge = cv2.Canny(gray, 50, 120)\n",
    "cv2.imshow(\"\",edge)\n",
    "# cv2.waitKey(0)\n",
    "cv2.waitKey(0)\n",
    "cv2.destroyAllWindows()\n",
    "\n",
    "\n",
    "\n",
    "cv2.imshow(\"\",img)\n",
    "\n",
    "edge = cv2.Canny(img,70,190)\n",
    "cv2.imshow(\"\",edge)\n",
    "\n",
    "cv2.waitKey(0)\n",
    "cv2.destroyAllWindows()\n"
   ]
  },
  {
   "cell_type": "code",
   "execution_count": 43,
   "metadata": {},
   "outputs": [
    {
     "name": "stdout",
     "output_type": "stream",
     "text": [
      "Numbers of contours are :  11\n"
     ]
    }
   ],
   "source": [
    "\n",
    "contours, hierarchy = cv2.findContours(edge, cv2.RETR_EXTERNAL, cv2.CHAIN_APPROX_NONE)\n",
    "print('Numbers of contours are : ', len(contours))\n",
    "cv2.drawContours(img, contours, -1, (0, 0, 255), 3)\n",
    "cv2.imshow(\"\",img)\n",
    "\n",
    "\n",
    "cv2.waitKey(0)\n",
    "cv2.destroyAllWindows()"
   ]
  },
  {
   "cell_type": "code",
   "execution_count": 42,
   "metadata": {},
   "outputs": [
    {
     "name": "stdout",
     "output_type": "stream",
     "text": [
      "Numbers of contours are :  11\n"
     ]
    }
   ],
   "source": [
    "contours, hierarchy = cv2.findContours(edge, cv2.RETR_LIST, cv2.CHAIN_APPROX_NONE)\n",
    "print('Numbers of contours are : ', len(contours))\n",
    "cv2.drawContours(img, contours, 6, (0, 0, 255), 3) \n",
    "cv2.imshow(\"\",img)\n",
    "\n",
    "cv2.waitKey(0)\n",
    "cv2.destroyAllWindows()"
   ]
  },
  {
   "cell_type": "code",
   "execution_count": null,
   "metadata": {},
   "outputs": [],
   "source": []
  }
 ],
 "metadata": {
  "kernelspec": {
   "display_name": "Python 3.8.1 32-bit",
   "language": "python",
   "name": "python38132bit83c87692f5044d1aa1dc66757104508b"
  },
  "language_info": {
   "codemirror_mode": {
    "name": "ipython",
    "version": 3
   },
   "file_extension": ".py",
   "mimetype": "text/x-python",
   "name": "python",
   "nbconvert_exporter": "python",
   "pygments_lexer": "ipython3",
   "version": "3.8.1"
  }
 },
 "nbformat": 4,
 "nbformat_minor": 4
}
